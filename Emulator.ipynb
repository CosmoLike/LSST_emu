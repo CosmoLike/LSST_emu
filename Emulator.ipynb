{
 "cells": [
  {
   "cell_type": "markdown",
   "metadata": {},
   "source": [
    "# Emulator\n",
    "I am using Gaussian Process to build an Emulator of FOM(Figure Of Merit). I have predicted a FOM value for last raw from given data."
   ]
  },
  {
   "cell_type": "code",
   "execution_count": 1,
   "metadata": {},
   "outputs": [],
   "source": [
    "import george\n",
    "import numpy as np\n",
    "import matplotlib as mpl\n",
    "import matplotlib.pyplot as plt\n",
    "from george import kernels\n",
    "from scipy.optimize import minimize\n",
    "from george.metrics import Metric\n",
    "import matplotlib.cm as cm\n",
    "%matplotlib inline"
   ]
  },
  {
   "cell_type": "code",
   "execution_count": 2,
   "metadata": {},
   "outputs": [],
   "source": [
    "a = np.loadtxt(\"parameters_with_FOM.txt\")\n",
    "FOM = a[:,6]\n",
    "a = a[:,:-1]"
   ]
  },
  {
   "cell_type": "code",
   "execution_count": 3,
   "metadata": {},
   "outputs": [],
   "source": [
    "# area=14,300, depth=26.35, shear_m=0.003, sigma_z=0.05,  sig_delta_z=0.001,  sig_sigma_z=0.003\n",
    "\n",
    "test1 = np.linspace(7000,20000, num=25) #area\n",
    "test2 = np.linspace(25,27, num=25) #depth\n",
    "#test2 = np.linspace(0.003,0.02, num=25) #shear_m\n",
    "#test2 = np.linspace(0.01,0.1, num=25) #sig_z\n",
    "#test2 = np.linspace(0.001,0.005, num=25) #sig_delta_z\n",
    "#test2 = np.linspace(0.003,0.006, num=25) #sig_sigma_z\n",
    "for param1 in test1:\n",
    "    for param2 in test2:\n",
    "        a = np.concatenate((a, [[param1, param2, 0.003, 0.05, 0.001, 0.003]]), axis=0)\n",
    "Xtest = a[36:, 0]\n",
    "Ytest = a[36:, 1]\n",
    "Xtest = Xtest.reshape(25,25)\n",
    "Ytest = Ytest.reshape(25,25)"
   ]
  },
  {
   "cell_type": "code",
   "execution_count": 4,
   "metadata": {},
   "outputs": [],
   "source": [
    "#slicing up the array in 7 column array:\n",
    "area = a[:,0]\n",
    "depth = a[:,1]\n",
    "shear_m = a[:,2]\n",
    "sigma_z = a[:,3]\n",
    "sig_delta_z = a[:,4]\n",
    "sig_sigma_z= a[:,5]"
   ]
  },
  {
   "cell_type": "code",
   "execution_count": 5,
   "metadata": {},
   "outputs": [],
   "source": [
    "#standardizing the data:\n",
    "Sarea = (area-np.mean(area))/np.std(area)\n",
    "Sdepth = (depth-np.mean(depth))/np.std(depth)\n",
    "Sshear_m = (shear_m-np.mean(shear_m))/np.std(shear_m)\n",
    "Ssigma_z = (sigma_z-np.mean(sigma_z))/np.std(sigma_z)\n",
    "Ssig_delta_z = (sig_delta_z-np.mean(sig_delta_z))/np.std(sig_delta_z)\n",
    "Ssig_sigma_z = (sig_sigma_z-np.mean(sig_sigma_z))/np.std(sig_sigma_z)\n",
    "SFOM = (FOM-np.mean(FOM))/np.std(FOM)"
   ]
  },
  {
   "cell_type": "code",
   "execution_count": 6,
   "metadata": {},
   "outputs": [],
   "source": [
    "#Putting together standardised parameter array:\n",
    "x = np.column_stack([Sarea, Sdepth, Sshear_m, Ssigma_z, Ssig_delta_z, Ssig_sigma_z])\n",
    "Sxtest = x[36:,:]\n",
    "x = x[:36,:]"
   ]
  },
  {
   "cell_type": "code",
   "execution_count": 7,
   "metadata": {},
   "outputs": [],
   "source": [
    "#creating a kernel-covariance in 6-D parameter space:\n",
    "kernel = kernels.Product(kernels.ConstantKernel(log_constant=np.log((((2*np.pi)))**-0.5), ndim=6),\n",
    "                         kernels.ExpSquaredKernel(metric= [1,1,1,1,1,1], ndim=6))"
   ]
  },
  {
   "cell_type": "code",
   "execution_count": 8,
   "metadata": {},
   "outputs": [],
   "source": [
    "gp = george.GP(kernel, mean=np.mean(SFOM))\n",
    "\n",
    "gp.compute(x)"
   ]
  },
  {
   "cell_type": "code",
   "execution_count": 9,
   "metadata": {},
   "outputs": [],
   "source": [
    "#maximising likelihood:\n",
    "def neg_ln_lik(p):\n",
    "            gp.set_parameter_vector(p)\n",
    "            return -gp.log_likelihood(SFOM) \n",
    "def grad_neg_ln_like(p):\n",
    "            gp.set_parameter_vector(p)\n",
    "            return -gp.grad_log_likelihood(SFOM) \n",
    "\n",
    "result = minimize(neg_ln_lik, gp.get_parameter_vector(), jac=grad_neg_ln_like)\n",
    "\n",
    "gp.set_parameter_vector(result.x)"
   ]
  },
  {
   "cell_type": "code",
   "execution_count": 10,
   "metadata": {},
   "outputs": [],
   "source": [
    "#Predicting the test point (it is the last raw of data here):\n",
    "predSFOM,  Svariance = gp.predict(SFOM, Sxtest, return_var=True)"
   ]
  },
  {
   "cell_type": "code",
   "execution_count": 11,
   "metadata": {},
   "outputs": [
    {
     "name": "stdout",
     "output_type": "stream",
     "text": [
      "50.694991388128386 17.699764038062785\n"
     ]
    },
    {
     "data": {
      "text/plain": [
       "array([[19.9028007 , 20.32080909, 20.74469834, 21.17246833, 21.60210899,\n",
       "        22.03161598, 22.45900624, 22.88233328, 23.29970193, 23.70928247,\n",
       "        24.10932404, 24.49816706, 24.87425463, 25.23614283, 25.58250972,\n",
       "        25.91216306, 26.22404663, 26.51724513, 26.79098767, 27.04464982,\n",
       "        27.27775417, 27.48996956, 27.68110892, 27.85112589, 28.00011015],\n",
       "       [19.49831474, 19.94678296, 20.40121503, 20.85946024, 21.3193609 ,\n",
       "        21.77876917, 22.23556385, 22.68766662, 23.13305787, 23.56979169,\n",
       "        23.9960101 , 24.40995615, 24.80998592, 25.19457928, 25.56234923,\n",
       "        25.91204981, 26.24258258, 26.55300145, 26.84251607, 27.11049354,\n",
       "        27.35645875, 27.58009307, 27.78123167, 27.95985951, 28.11610598],\n",
       "       [19.1176769 , 19.60060533, 20.08965441, 20.58250797, 21.07684521,\n",
       "        21.57035882, 22.06077298, 22.54586079, 23.02346124, 23.49149516,\n",
       "        23.94798041, 24.39104577, 24.81894367, 25.23006148, 25.62293132,\n",
       "        25.99623835, 26.34882736, 26.67970774, 26.98805681, 27.27322138,\n",
       "        27.53471775, 27.77223007, 27.98560719, 28.17485801, 28.34014554],\n",
       "       [18.76710998, 19.28866434, 19.81659208, 20.34839667, 20.8815784 ,\n",
       "        21.41365392, 21.94217556, 22.46475012, 22.97905694, 23.48286514,\n",
       "        23.97404972, 24.45060647, 24.91066549, 25.35250323, 25.77455283,\n",
       "        26.17541294, 26.55385455, 26.90882626, 27.23945758, 27.5450605 ,\n",
       "        27.82512927, 28.07933852, 28.30753961, 28.50975562, 28.68617467],\n",
       "       [18.4526832 , 19.01694956, 19.5879552 , 20.16300915, 20.73941767,\n",
       "        21.31450531, 21.88563563, 22.4502314 , 23.00579402, 23.54992197,\n",
       "        24.08032815, 24.59485585, 25.09149321, 25.56838612, 26.02384937,\n",
       "        26.45637593, 26.86464437, 27.24752442, 27.60408046, 27.93357321,\n",
       "        28.23545941, 28.50938976, 28.75520504, 28.97293056, 29.16276912],\n",
       "       [18.18085026, 18.79156459, 19.40950684, 20.03177947, 20.65548143,\n",
       "        21.27773073, 21.89568668, 22.50657161, 23.1076917 , 23.69645686,\n",
       "        24.27039928, 24.82719071, 25.36465796, 25.88079686, 26.3737842 ,\n",
       "        26.84198785, 27.2839748 , 27.69851713, 28.08459592, 28.44140314,\n",
       "        28.76834142, 29.0650219 , 29.33126022, 29.56707067, 29.77265871],\n",
       "       [17.95912358, 18.61939545, 19.28750622, 19.96034268, 20.63478605,\n",
       "        21.3077362 , 21.97613544, 22.63699182, 23.28740146, 23.92456994,\n",
       "        24.54583228, 25.14867146, 25.73073529, 26.28985139, 26.82404023,\n",
       "        27.33152612, 27.81074602, 28.26035617, 28.67923649, 29.06649283,\n",
       "        29.42145699, 29.74368466, 30.03295131, 30.28924626, 30.51276482],\n",
       "       [17.79678529, 18.50883739, 19.22944939, 19.95528723, 20.68300803,\n",
       "        21.40928585, 22.13083716, 22.84444572, 23.54698652, 24.23544869,\n",
       "        24.90695699, 25.55879179, 26.18840723, 26.79344752, 27.37176109,\n",
       "        27.92141264, 28.44069284, 28.92812575, 29.3824739 , 29.80274104,\n",
       "        30.18817247, 30.53825332, 30.85270446, 31.13147652, 31.37474194],\n",
       "       [17.7055101 , 18.47045464, 19.24476466, 20.02488488, 20.80724677,\n",
       "        21.58829591, 22.36451909, 23.13247074, 23.88879857, 24.63026804,\n",
       "        25.35378536, 26.05641903, 26.73541939, 27.38823626, 28.0125344 ,\n",
       "        28.60620661, 29.16738456, 29.69444709, 30.18602603, 30.64100962,\n",
       "        31.0585434 , 31.43802876, 31.77911914, 32.08171415, 32.3459515 ],\n",
       "       [17.69976404, 18.51743474, 19.34532234, 20.17965529, 21.01664346,\n",
       "        21.85250699, 22.68350495, 23.50596337, 24.31630247, 25.11106272,\n",
       "        25.88692943, 26.64075575, 27.36958377, 28.07066349, 28.74146963,\n",
       "        29.37971596, 29.98336723, 30.55064848, 31.08005179, 31.57034038,\n",
       "        32.02055018, 32.42998883, 32.79823227, 33.12511902, 33.41074221],\n",
       "       [17.79685101, 18.66570492, 19.54562178, 20.43262449, 21.32271128,\n",
       "        22.21188606, 23.09618852, 23.97172377, 24.83469098, 25.68141105,\n",
       "        26.50835272, 27.31215709, 28.08966012, 28.83791307, 29.55420063,\n",
       "        30.23605649, 30.88127648, 31.48792891, 32.05436227, 32.57921021,\n",
       "        33.06139376, 33.50012099, 33.89488395, 34.24545333, 34.55187064],\n",
       "       [18.01650718, 18.93360455, 19.86254422, 20.79915977, 21.7392538 ,\n",
       "        22.6786295 , 23.61312218, 24.53863022, 25.45114524, 26.3467811 ,\n",
       "        27.22180155, 28.0726461 , 28.89595399, 29.68858598, 30.44764373,\n",
       "        31.17048673, 31.8547465 , 32.49833809, 33.09946872, 33.65664363,\n",
       "        34.16866912, 34.63465277, 35.05400098, 35.42641395, 35.7518782 ],\n",
       "       [18.37998963, 19.34105354, 20.31460398, 21.29630682, 22.28179066,\n",
       "        23.26667964, 24.24662603, 25.21734246, 26.17463336, 27.11442528,\n",
       "        28.0327958 , 28.92600073, 29.79049938, 30.62297763, 31.42036852,\n",
       "        32.17987037, 32.89896211, 33.5754158 , 34.20730629, 34.7930179 ,\n",
       "        35.33124821, 35.82100904, 36.26162445, 36.65272624, 36.99424669],\n",
       "       [18.90866638, 19.90821668, 20.92069148, 21.94161519, 22.96646926,\n",
       "        23.99072582, 25.00988139, 26.01949002, 27.01519585, 27.99276453,\n",
       "        28.94811325, 29.87733909, 30.7767454 , 31.64286601, 32.47248693,\n",
       "        33.26266551, 34.01074683, 34.71437715, 35.37151446, 35.98043603,\n",
       "        36.53974295, 37.04836166, 37.50554267, 37.91085637, 38.26418626],\n",
       "       [19.62218219, 20.65373217, 21.69836943, 22.75150697, 23.80851006,\n",
       "        24.86473066, 25.91554173, 26.9563713 , 27.98273581, 28.99027236,\n",
       "        29.97476972, 30.93219755, 31.85873372, 32.75078945, 33.60503193,\n",
       "        34.41840442, 35.1881434 , 35.911793  , 36.58721623, 37.21260332,\n",
       "        37.78647691, 38.30769417, 38.77544609, 39.18925367, 39.54896153],\n",
       "       [20.53634026, 21.59263955, 22.66185222, 23.73931261, 24.82030398,\n",
       "        25.90009335, 26.97396632, 28.03726166, 29.08540517, 30.11394266,\n",
       "        31.11857148, 32.09517045, 33.03982791, 33.94886747, 34.81887141,\n",
       "        35.64670138, 36.42951635, 37.16478759, 37.85031062, 38.48421407,\n",
       "        39.0649655 , 39.59137399, 40.06258985, 40.47810132, 40.83772837],\n",
       "       [21.66089419, 22.73419829, 23.81985622, 24.913158  , 26.00934093,\n",
       "        27.10362463, 28.19124607, 29.26749438, 30.32774506, 31.36749321,\n",
       "        32.38238548, 33.36825035, 34.32112661, 35.23728952, 36.11327464,\n",
       "        36.94589905, 37.73227965, 38.4698487 , 39.15636612, 39.78992886,\n",
       "        40.36897706, 40.89229709, 41.35902155, 41.76862629, 42.12092453],\n",
       "       [22.99747963, 24.07982539, 25.17354788, 26.27392752, 27.37619241,\n",
       "        28.4755532 , 29.56723813, 30.64652777, 31.70878924, 32.74950948,\n",
       "        33.76432723, 34.74906343, 35.69974979, 36.61265508, 37.48430918,\n",
       "        38.31152442, 39.09141415, 39.8214084 , 40.49926655, 41.12308679,\n",
       "        41.6913126 , 42.20273599, 42.65649774, 43.05208461, 43.38932366],\n",
       "       [24.53792422, 25.62139181, 26.71483013, 27.81354406, 28.91278864,\n",
       "        30.00780365, 31.09384826, 32.1662355 , 33.22036619, 34.25176189,\n",
       "        35.25609671, 36.22922745, 37.16722195, 38.06638532, 38.9232838 ,\n",
       "        39.73476601, 40.49798147, 41.21039626, 41.86980561, 42.47434348,\n",
       "        43.02248897, 43.51306973, 43.94526219, 44.3185889 , 44.63291293],\n",
       "       [26.26315513, 27.34009995, 28.42519196, 29.51379286, 30.60121921,\n",
       "        31.68277635, 32.75379257, 33.80965292, 34.8458326 , 35.85792936,\n",
       "        36.84169474, 37.79306372, 38.70818263, 39.58343485, 40.41546431,\n",
       "        41.20119637, 41.93785603, 42.62298325, 43.25444536, 43.83044639,\n",
       "        44.34953339, 44.81059963, 45.21288483, 45.55597243, 45.83978396],\n",
       "       [28.1428766 , 29.20611905, 30.27530216, 31.3458744 , 32.41324584,\n",
       "        33.47282128, 34.5200336 , 35.55037677, 36.55943835, 37.54293114,\n",
       "        38.49672353, 39.41686844, 40.29963038, 41.14151051, 41.93926943,\n",
       "        42.68994738, 43.39088194, 44.03972278, 44.63444362, 45.17335112,\n",
       "        45.65509089, 46.07865036, 46.44335881, 46.74888443, 46.99522859],\n",
       "       [30.13611964, 31.17908576, 32.22545967, 33.27080352, 34.31064965,\n",
       "        35.34053281, 36.35602239, 37.35275443, 38.32646309, 39.27301114,\n",
       "        40.18841935, 41.06889431, 41.91085452, 42.71095447, 43.46610647,\n",
       "        44.17350003, 44.8306187 , 45.43525407, 45.98551707, 46.47984625,\n",
       "        46.91701323, 47.29612517, 47.61662438, 47.87828507, 48.08120747],\n",
       "       [32.19268081, 33.20949236, 34.22692838, 35.24068822, 36.24645161,\n",
       "        37.23990972, 38.21679615, 39.17291776, 40.10418482, 41.00664027,\n",
       "        41.87648777, 42.71011833, 43.50413514, 44.25537645, 44.96093625,\n",
       "        45.6181826 , 46.22477339, 46.77866947, 47.278145  , 47.72179504,\n",
       "        48.10854028, 48.43762887, 48.70863559, 48.92145818, 49.07631112],\n",
       "       [34.25537672, 35.24089398, 36.22409285, 37.2008299 , 38.16695344,\n",
       "        39.11833323, 40.05089021, 40.96062583, 41.84365083, 42.69621302,\n",
       "        43.51472392, 44.29578389, 45.03620561, 45.73303554, 46.38357333,\n",
       "        46.98538883, 47.5363367 , 48.03456846, 48.4785418 , 48.86702726,\n",
       "        49.19911211, 49.47420158, 49.69201732, 49.85259331, 49.95626921],\n",
       "       [36.26295602, 37.21278061, 38.15728501, 39.09249958, 40.01445843,\n",
       "        40.91922779, 41.8029342 , 42.66179241, 43.49213249, 44.29042613,\n",
       "        45.05331163, 45.77761747, 46.46038426, 47.09888467, 47.69064138,\n",
       "        48.23344273, 48.72535603, 49.16473835, 49.55024473, 49.88083388,\n",
       "        50.15577112, 50.37462883, 50.53728426, 50.64391489, 50.69499139]])"
      ]
     },
     "execution_count": 11,
     "metadata": {},
     "output_type": "execute_result"
    }
   ],
   "source": [
    "predFOM = predSFOM*np.std(FOM) + np.mean(FOM)\n",
    "print(max(predFOM), min(predFOM))\n",
    "predFOM = predFOM.reshape(25,25)\n",
    "predFOM"
   ]
  },
  {
   "cell_type": "code",
   "execution_count": 12,
   "metadata": {},
   "outputs": [
    {
     "data": {
      "image/png": "[encoded data removed]",
      "text/plain": [
       "<Figure size 720x576 with 2 Axes>"
      ]
     },
     "metadata": {
      "needs_background": "light"
     },
     "output_type": "display_data"
    }
   ],
   "source": [
    "fig,ax = plt.subplots(figsize=(10,8))\n",
    "\n",
    "norm = mpl.colors.LogNorm(vmin=17.699764038062785, vmax=50.694991388128386)\n",
    "\n",
    "cs = ax.pcolormesh(Xtest, Ytest, predFOM, norm=norm, cmap=cm.Blues)\n",
    "plt.title('FoM on Depth vs Area \\n shear_m=0.003, $\\sigma_z$=0.05, $\\sigma (\\Delta_z)$=0.001, $\\sigma (\\sigma_z)$=0.003')\n",
    "plt.xlabel('Area')\n",
    "plt.ylabel('$Depth')\n",
    "\n",
    "formatter = mpl.ticker.ScalarFormatter()\n",
    "fig.colorbar(cs, cmap=cm.Blues, norm=norm, format=formatter)\n",
    "plt.savefig('FOM-DepthvsArea.png',dpi=500)\n",
    "plt.show()"
   ]
  },
  {
   "cell_type": "code",
   "execution_count": null,
   "metadata": {},
   "outputs": [],
   "source": []
  }
 ],
 "metadata": {
  "kernelspec": {
   "display_name": "Python 3",
   "language": "python",
   "name": "python3"
  },
  "language_info": {
   "codemirror_mode": {
    "name": "ipython",
    "version": 3
   },
   "file_extension": ".py",
   "mimetype": "text/x-python",
   "name": "python",
   "nbconvert_exporter": "python",
   "pygments_lexer": "ipython3",
   "version": "3.7.4"
  }
 },
 "nbformat": 4,
 "nbformat_minor": 2
}
