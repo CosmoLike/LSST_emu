{
 "cells": [
  {
   "cell_type": "markdown",
   "metadata": {},
   "source": [
    "# Emulator Testing\n",
    "I am running the emulator on the given data and predicting the FOM values for all the 36 scenarios. Results are shown as the plots of predicted FOM vs given FOM and percentage error in prediction for each scenario. "
   ]
  },
  {
   "cell_type": "code",
   "execution_count": 1,
   "metadata": {},
   "outputs": [],
   "source": [
    "import george\n",
    "import numpy as np\n",
    "import matplotlib.pyplot as pl\n",
    "from george import kernels\n",
    "from scipy.optimize import minimize\n",
    "from george.metrics import Metric\n",
    "%matplotlib inline"
   ]
  },
  {
   "cell_type": "code",
   "execution_count": 2,
   "metadata": {},
   "outputs": [],
   "source": [
    "a = np.loadtxt(\"parameters_with_FOM.txt\")"
   ]
  },
  {
   "cell_type": "code",
   "execution_count": 3,
   "metadata": {},
   "outputs": [],
   "source": [
    "area = a[:,0]\n",
    "depth = a[:,1]\n",
    "shear_m = a[:,2]\n",
    "sigma_z = a[:,3]\n",
    "sig_delta_z = a[:,4]\n",
    "sig_sigma_z= a[:,5]\n",
    "FOM = a[:,6]\n",
    "#slicing up the array in 7 column arrays"
   ]
  },
  {
   "cell_type": "code",
   "execution_count": 4,
   "metadata": {},
   "outputs": [],
   "source": [
    "Sarea = (area-np.mean(area))/np.std(area)\n",
    "Sdepth = (depth-np.mean(depth))/np.std(depth)\n",
    "Sshear_m = (shear_m-np.mean(shear_m))/np.std(shear_m)\n",
    "Ssigma_z = (sigma_z-np.mean(sigma_z))/np.std(sigma_z)\n",
    "Ssig_delta_z = (sig_delta_z-np.mean(sig_delta_z))/np.std(sig_delta_z)\n",
    "Ssig_sigma_z = (sig_sigma_z-np.mean(sig_sigma_z))/np.std(sig_sigma_z)\n",
    "SFOM = (FOM-np.mean(FOM))/np.std(FOM)\n",
    "#standardizing the data"
   ]
  },
  {
   "cell_type": "code",
   "execution_count": 5,
   "metadata": {},
   "outputs": [],
   "source": [
    "x = np.column_stack([Sarea, Sdepth, Sshear_m, Ssigma_z, Ssig_delta_z, Ssig_sigma_z])\n",
    "#Putting together standardised parameter array"
   ]
  },
  {
   "cell_type": "code",
   "execution_count": 6,
   "metadata": {},
   "outputs": [],
   "source": [
    "ArrayPFOM = []\n",
    "#Empty array in which I will 'extend' every predicted FOM value from loop "
   ]
  },
  {
   "cell_type": "code",
   "execution_count": 7,
   "metadata": {},
   "outputs": [],
   "source": [
    "kernel = kernels.ExpSquaredKernel(metric=[1,1,1,1,1,1], ndim=6)\n",
    "#creating a kernel-covariance in 6-D parameter space"
   ]
  },
  {
   "cell_type": "code",
   "execution_count": 8,
   "metadata": {},
   "outputs": [],
   "source": [
    "gp = george.GP(kernel, mean=np.mean(SFOM))"
   ]
  },
  {
   "cell_type": "code",
   "execution_count": 9,
   "metadata": {},
   "outputs": [],
   "source": [
    "for i in range (0,36):\n",
    "    #creating a loop\n",
    "    X = np.delete(x, i, axis=0)\n",
    "    sfom = np.delete(SFOM, i, axis=0)  \n",
    "               #deletes 1 raw everytime the loop runs from first to last\n",
    "    y = np.take(x, [i], axis=0)\n",
    "               #takes 1 raw everytime the loop runs from first to last\n",
    "    \n",
    "    gp.compute(X)\n",
    "    def neg_ln_lik(p):\n",
    "            gp.set_parameter_vector(p)\n",
    "            return -gp.log_likelihood(sfom) \n",
    "    def grad_neg_ln_like(p):\n",
    "            gp.set_parameter_vector(p)\n",
    "            return -gp.grad_log_likelihood(sfom) \n",
    "    result = minimize(neg_ln_lik, gp.get_parameter_vector(), jac=grad_neg_ln_like)\n",
    "    gp.set_parameter_vector(result.x)\n",
    "    #running Gaussian process\n",
    "    \n",
    "    PSFOM, DY = gp.predict(sfom, y)\n",
    "    #prediction of test point\n",
    "    \n",
    "    PFOM = (PSFOM*np.std(FOM))+np.mean(FOM)\n",
    "    #De-standerdising predicted standardised FOM value\n",
    "    \n",
    "    ArrayPFOM.extend(PFOM)\n",
    "    #Building an array of predicted FOM"
   ]
  },
  {
   "cell_type": "code",
   "execution_count": 10,
   "metadata": {
    "scrolled": true
   },
   "outputs": [
    {
     "data": {
      "text/plain": [
       "[7674.464644349838,\n",
       " 14839.948440488764,\n",
       " 9983.244902103364,\n",
       " 8638.642180862982,\n",
       " 17735.29481094126,\n",
       " 15177.218819242953,\n",
       " 9798.502384041834,\n",
       " 8388.134341010164,\n",
       " 9586.684553239345,\n",
       " 18382.745034058178,\n",
       " 12918.58120463984,\n",
       " 17468.937611002057,\n",
       " 19832.99319292966,\n",
       " 12590.302591892269,\n",
       " 15312.691760113537,\n",
       " 16591.039618202467,\n",
       " 19690.426533917882,\n",
       " 11166.303287042418,\n",
       " 10437.527170274647,\n",
       " 16193.169998033183,\n",
       " 18971.46713436113,\n",
       " 18027.23050927425,\n",
       " 11403.920293650528,\n",
       " 9267.678544722225,\n",
       " 16963.129768981693,\n",
       " 12046.368370794497,\n",
       " 16251.550411087392,\n",
       " 14445.839887973003,\n",
       " 8187.481109785924,\n",
       " 13563.057110260348,\n",
       " 19174.07071734478,\n",
       " 15735.142795189166,\n",
       " 12064.92905004202,\n",
       " 14112.25664808869,\n",
       " 10971.47871214271,\n",
       " 13265.214698547548]"
      ]
     },
     "execution_count": 10,
     "metadata": {},
     "output_type": "execute_result"
    }
   ],
   "source": [
    "ArrayPFOM\n",
    "#Predicted FOM values"
   ]
  },
  {
   "cell_type": "code",
   "execution_count": 11,
   "metadata": {},
   "outputs": [
    {
     "data": {
      "text/plain": [
       "Text(0, 0.5, 'FOM Predicted with Emulator')"
      ]
     },
     "execution_count": 11,
     "metadata": {},
     "output_type": "execute_result"
    },
    {
     "data": {
      "image/png": "[encoded data removed]",
      "text/plain": [
       "<Figure size 432x288 with 1 Axes>"
      ]
     },
     "metadata": {
      "needs_background": "light"
     },
     "output_type": "display_data"
    }
   ],
   "source": [
    "pl.scatter(FOM, ArrayPFOM)\n",
    "pl.xlabel('FOM Calculated in Data')\n",
    "pl.ylabel('FOM Predicted with Emulator')\n",
    "#Predicted FOM vs Given FOM "
   ]
  },
  {
   "cell_type": "code",
   "execution_count": 12,
   "metadata": {},
   "outputs": [],
   "source": [
    "Precision = (ArrayPFOM-FOM)*100/FOM\n",
    "#Calculating percentage error between predicted and given data"
   ]
  },
  {
   "cell_type": "code",
   "execution_count": 13,
   "metadata": {},
   "outputs": [],
   "source": [
    "Scenario = np.arange(36).transpose()"
   ]
  },
  {
   "cell_type": "code",
   "execution_count": 14,
   "metadata": {
    "scrolled": true
   },
   "outputs": [
    {
     "data": {
      "text/plain": [
       "Text(0, 0.5, 'Percentage error in prediction')"
      ]
     },
     "execution_count": 14,
     "metadata": {},
     "output_type": "execute_result"
    },
    {
     "data": {
      "image/png": "[encoded data removed]",
      "text/plain": [
       "<Figure size 432x288 with 1 Axes>"
      ]
     },
     "metadata": {
      "needs_background": "light"
     },
     "output_type": "display_data"
    }
   ],
   "source": [
    "pl.plot(Scenario, Precision)\n",
    "pl.xlabel('Scenario')\n",
    "pl.ylabel('Percentage error in prediction')\n",
    "#percentage error in prediction vs 36-scenarioes"
   ]
  },
  {
   "cell_type": "code",
   "execution_count": 17,
   "metadata": {},
   "outputs": [
    {
     "data": {
      "text/plain": [
       "5.890618776676191e-06"
      ]
     },
     "execution_count": 17,
     "metadata": {},
     "output_type": "execute_result"
    }
   ],
   "source": [
    "avg_precision = np.mean(Precision)\n",
    "avg_precision"
   ]
  },
  {
   "cell_type": "code",
   "execution_count": null,
   "metadata": {},
   "outputs": [],
   "source": []
  }
 ],
 "metadata": {
  "kernelspec": {
   "display_name": "Python 2",
   "language": "python",
   "name": "python2"
  },
  "language_info": {
   "codemirror_mode": {
    "name": "ipython",
    "version": 2
   },
   "file_extension": ".py",
   "mimetype": "text/x-python",
   "name": "python",
   "nbconvert_exporter": "python",
   "pygments_lexer": "ipython2",
   "version": "2.7.15"
  }
 },
 "nbformat": 4,
 "nbformat_minor": 2
}
