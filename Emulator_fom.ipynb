{
 "cells": [
  {
   "cell_type": "markdown",
   "metadata": {},
   "source": [
    "# Emulator\n",
    "I am using Gaussian Process to build an Emulator of FOM(Figure Of Merit) in 6-D parameter Space. I have predicted a FOM value for last raw from given data. Results are shown as the value of predicted FOM and given FOM."
   ]
  },
  {
   "cell_type": "code",
   "execution_count": 1,
   "metadata": {},
   "outputs": [],
   "source": [
    "import george\n",
    "import numpy as np\n",
    "import matplotlib.pyplot as pl\n",
    "from george import kernels\n",
    "from scipy.optimize import minimize\n",
    "from george.metrics import Metric\n",
    "%matplotlib inline"
   ]
  },
  {
   "cell_type": "code",
   "execution_count": 2,
   "metadata": {},
   "outputs": [],
   "source": [
    "a = np.loadtxt(\"parameters_with_FOM.txt\")"
   ]
  },
  {
   "cell_type": "code",
   "execution_count": 3,
   "metadata": {},
   "outputs": [],
   "source": [
    "area = a[:,0]\n",
    "depth = a[:,1]\n",
    "shear_m = a[:,2]\n",
    "sigma_z = a[:,3]\n",
    "sig_delta_z = a[:,4]\n",
    "sig_sigma_z= a[:,5]\n",
    "FOM = a[:,6]\n",
    "#slicing up the array in 7 column array"
   ]
  },
  {
   "cell_type": "code",
   "execution_count": 4,
   "metadata": {},
   "outputs": [],
   "source": [
    "Sarea = (area-np.mean(area))/np.std(area)\n",
    "Sdepth = (depth-np.mean(depth))/np.std(depth)\n",
    "Sshear_m = (shear_m-np.mean(shear_m))/np.std(shear_m)\n",
    "Ssigma_z = (sigma_z-np.mean(sigma_z))/np.std(sigma_z)\n",
    "Ssig_delta_z = (sig_delta_z-np.mean(sig_delta_z))/np.std(sig_delta_z)\n",
    "Ssig_sigma_z = (sig_sigma_z-np.mean(sig_sigma_z))/np.std(sig_sigma_z)\n",
    "SFOM = (FOM-np.mean(FOM))/np.std(FOM)\n",
    "#standardizing the data"
   ]
  },
  {
   "cell_type": "code",
   "execution_count": 5,
   "metadata": {},
   "outputs": [],
   "source": [
    "x = np.column_stack([Sarea, Sdepth, Sshear_m, Ssigma_z, Ssig_delta_z, Ssig_sigma_z])\n",
    "#Putting together standardised parameter array"
   ]
  },
  {
   "cell_type": "code",
   "execution_count": 6,
   "metadata": {},
   "outputs": [],
   "source": [
    "kernel = kernels.ExpSquaredKernel(metric=[1,1,1,1,1,1], ndim=6)\n",
    "#creating a kernel-covariance in 6-D parameter space"
   ]
  },
  {
   "cell_type": "code",
   "execution_count": 7,
   "metadata": {},
   "outputs": [],
   "source": [
    "gp = george.GP(kernel, mean=np.mean(SFOM))"
   ]
  },
  {
   "cell_type": "code",
   "execution_count": 8,
   "metadata": {},
   "outputs": [],
   "source": [
    "gp.compute(x[:-1])\n",
    "\n",
    "def neg_ln_lik(p):\n",
    "            gp.set_parameter_vector(p)\n",
    "            return -gp.log_likelihood(SFOM[:-1]) \n",
    "def grad_neg_ln_like(p):\n",
    "            gp.set_parameter_vector(p)\n",
    "            return -gp.grad_log_likelihood(SFOM[:-1]) \n",
    "\n",
    "result = minimize(neg_ln_lik, gp.get_parameter_vector(), jac=grad_neg_ln_like)\n",
    "\n",
    "gp.set_parameter_vector(result.x)\n",
    "#running Gaussian process"
   ]
  },
  {
   "cell_type": "code",
   "execution_count": 9,
   "metadata": {},
   "outputs": [],
   "source": [
    "PSFOM, PerameterValues = gp.predict(SFOM[:-1], [x[-1]])\n",
    "#Predicting the test point(Which is the last raw of data here)"
   ]
  },
  {
   "cell_type": "code",
   "execution_count": 10,
   "metadata": {},
   "outputs": [],
   "source": [
    "PFOM = (PSFOM*np.std(FOM))+np.mean(FOM)\n",
    "#De-standardizing the standardised predicted FOM value"
   ]
  },
  {
   "cell_type": "code",
   "execution_count": 11,
   "metadata": {},
   "outputs": [
    {
     "data": {
      "text/plain": [
       "(13265.214697708, 13265.22)"
      ]
     },
     "execution_count": 11,
     "metadata": {},
     "output_type": "execute_result"
    }
   ],
   "source": [
    "PFOM[0], FOM[-1]\n",
    "#Comparing the predicted FOM and given FOM"
   ]
  },
  {
   "cell_type": "code",
   "execution_count": null,
   "metadata": {},
   "outputs": [],
   "source": []
  }
 ],
 "metadata": {
  "kernelspec": {
   "display_name": "Python 2",
   "language": "python",
   "name": "python2"
  },
  "language_info": {
   "codemirror_mode": {
    "name": "ipython",
    "version": 2
   },
   "file_extension": ".py",
   "mimetype": "text/x-python",
   "name": "python",
   "nbconvert_exporter": "python",
   "pygments_lexer": "ipython2",
   "version": "2.7.15"
  }
 },
 "nbformat": 4,
 "nbformat_minor": 2
}
