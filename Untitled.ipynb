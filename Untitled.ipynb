{
 "cells": [
  {
   "cell_type": "code",
   "execution_count": 50,
   "metadata": {},
   "outputs": [
    {
     "ename": "NameError",
     "evalue": "name 'test' is not defined",
     "output_type": "error",
     "traceback": [
      "\u001b[0;31m---------------------------------------------------------------------------\u001b[0m",
      "\u001b[0;31mNameError\u001b[0m                                 Traceback (most recent call last)",
      "\u001b[0;32m<ipython-input-50-dd16f0cb795a>\u001b[0m in \u001b[0;36m<module>\u001b[0;34m()\u001b[0m\n\u001b[1;32m     98\u001b[0m \u001b[0;34m\u001b[0m\u001b[0m\n\u001b[1;32m     99\u001b[0m \u001b[0mf\u001b[0m \u001b[0;34m=\u001b[0m \u001b[0mopen\u001b[0m\u001b[0;34m(\u001b[0m\u001b[0;34m'table.txt'\u001b[0m\u001b[0;34m,\u001b[0m \u001b[0;34m'r'\u001b[0m\u001b[0;34m)\u001b[0m\u001b[0;34m\u001b[0m\u001b[0m\n\u001b[0;32m--> 100\u001b[0;31m \u001b[0mf\u001b[0m\u001b[0;34m.\u001b[0m\u001b[0mread\u001b[0m\u001b[0;34m(\u001b[0m\u001b[0mtabulate\u001b[0m\u001b[0;34m(\u001b[0m\u001b[0mtest\u001b[0m\u001b[0;34m)\u001b[0m\u001b[0;34m)\u001b[0m\u001b[0;34m\u001b[0m\u001b[0m\n\u001b[0m\u001b[1;32m    101\u001b[0m \u001b[0mf\u001b[0m\u001b[0;34m.\u001b[0m\u001b[0mclose\u001b[0m\u001b[0;34m(\u001b[0m\u001b[0;34m)\u001b[0m\u001b[0;34m\u001b[0m\u001b[0m\n\u001b[1;32m    102\u001b[0m \u001b[0;34m\u001b[0m\u001b[0m\n",
      "\u001b[0;31mNameError\u001b[0m: name 'test' is not defined"
     ]
    }
   ],
   "source": [
    "import sys\n",
    "import os\n",
    "import math, numpy as np\n",
    "import matplotlib.pyplot as plt\n",
    "import matplotlib.image as mpimg\n",
    "from numpy import linalg as LA\n",
    "import numpy as np\n",
    "\n",
    "class InputNuisanceParams(IterableStruct):\n",
    "    section_name = \"nuisance_parameters\"\n",
    "    _fields_ = [\n",
    "        (\"bias\", double*10),\n",
    "        (\"source_z_bias\", double*10),\n",
    "        (\"source_z_s\", double),\n",
    "        (\"lens_z_bias\", double*10),\n",
    "        (\"lens_z_s\", double),\n",
    "        (\"shear_m\", double*10),\n",
    "        (\"A_ia\", double),\n",
    "        (\"beta_ia\", double),\n",
    "        (\"eta_ia\", double),\n",
    "        (\"eta_ia_highz\", double),\n",
    "        (\"lf\", double*6),\n",
    "        (\"m_lambda\", double*6),\n",
    "    ]\n",
    "    @classmethod\n",
    "    def fiducial(cls):\n",
    "        c = cls()\n",
    "        c.bias[:] = [1.3,1.4,1.5,1.6,1.7,1.8,1.9,2.0,2.1,2.2]\n",
    "        c.source_z_bias[:] = np.repeat(0.0, 10)\n",
    "        c.source_z_s = 0.02\n",
    "        c.lens_z_bias[:] = np.repeat(0.0, 10)\n",
    "        c.lens_z_s = 0.02\n",
    "        c.shear_m[:] = np.repeat(0.0, 10)\n",
    "        c.A_ia = 5.92\n",
    "        c.beta_ia = 1.1\n",
    "        c.eta_ia = -0.47\n",
    "        c.eta_ia_highz = 0.0\n",
    "        c.lf[:] = np.repeat(0.0, 6)\n",
    "        c.m_lambda[:] = [3.207, 0.993, 0.0, 0.456, 0.0, 0.0]\n",
    "        return c\n",
    "\n",
    "    @classmethod\n",
    "    def fiducial_sigma(cls):\n",
    "        c = cls()\n",
    "        c.bias[:] = np.repeat(0.1, 10)\n",
    "        c.source_z_bias[:] = np.repeat(0.01, 10)\n",
    "        c.source_z_s = 0.005\n",
    "        c.lens_z_bias[:] = np.repeat(0.01, 10)\n",
    "        c.lens_z_s = 0.005\n",
    "        c.shear_m[:] = np.repeat(0.01, 10)\n",
    "        c.A_ia = 0.05\n",
    "        c.beta_ia = 0.01\n",
    "        c.eta_ia = 0.01\n",
    "        c.eta_ia_highz = 0.01\n",
    "        c.lf[:] = np.repeat(0.005, 6)\n",
    "        c.m_lambda[:] = [0.05, 0.01, 0.01, 0.01, 0.01, 0.01]\n",
    "        return c\n",
    "    \n",
    "print InputNuisanceParams."
   ]
  },
  {
   "cell_type": "code",
   "execution_count": 46,
   "metadata": {},
   "outputs": [
    {
     "name": "stdout",
     "output_type": "stream",
     "text": [
      "'\n"
     ]
    }
   ],
   "source": [
    "print data[1]"
   ]
  },
  {
   "cell_type": "code",
   "execution_count": null,
   "metadata": {},
   "outputs": [],
   "source": []
  }
 ],
 "metadata": {
  "kernelspec": {
   "display_name": "Python 2",
   "language": "python",
   "name": "python2"
  },
  "language_info": {
   "codemirror_mode": {
    "name": "ipython",
    "version": 2
   },
   "file_extension": ".py",
   "mimetype": "text/x-python",
   "name": "python",
   "nbconvert_exporter": "python",
   "pygments_lexer": "ipython2",
   "version": "2.7.15"
  }
 },
 "nbformat": 4,
 "nbformat_minor": 2
}
